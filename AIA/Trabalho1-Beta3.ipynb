{
 "cells": [
  {
   "cell_type": "markdown",
   "metadata": {},
   "source": [
    "### Trabalho 1\n",
    "\n",
    "Seguem instruções:\n",
    "\n",
    "1) Baixar dataset em : https://www.kaggle.com/c/home-credit-default-risk/data\n",
    "\n",
    "2) Explorar, conforme instruções:\n",
    "\n",
    "* 'application_train.csv': Esse csv possui 122 colunas: explorar 40 colunas, sendo as primeiras 30 obrigatórias e 10 adicionais a escolher\n",
    "* 30 colunas obrigatórias:\n",
    "\n",
    "['SK_ID_CURR', 'TARGET', 'NAME_CONTRACT_TYPE', 'CODE_GENDER',\n",
    "       'FLAG_OWN_CAR', 'FLAG_OWN_REALTY', 'CNT_CHILDREN', 'AMT_INCOME_TOTAL',\n",
    "       'AMT_CREDIT', 'AMT_ANNUITY', 'AMT_GOODS_PRICE', 'NAME_TYPE_SUITE',\n",
    "       'NAME_INCOME_TYPE', 'NAME_EDUCATION_TYPE', 'NAME_FAMILY_STATUS',\n",
    "       'NAME_HOUSING_TYPE', 'REGION_POPULATION_RELATIVE', 'DAYS_BIRTH',\n",
    "       'DAYS_EMPLOYED', 'DAYS_REGISTRATION', 'DAYS_ID_PUBLISH', 'OWN_CAR_AGE',\n",
    "       'FLAG_MOBIL', 'FLAG_EMP_PHONE', 'FLAG_WORK_PHONE', 'FLAG_CONT_MOBILE',\n",
    "       'FLAG_PHONE', 'FLAG_EMAIL', 'OCCUPATION_TYPE', 'CNT_FAM_MEMBERS']\n",
    "       \n",
    "* alunos deverão se organizar para que todas as colunas sejam exploradas\n",
    "* escolher dois arquivos, para exploração e join/merge/concat com o 'application_train.csv'\n",
    "\n",
    "['HomeCredit_columns_description.csv',\n",
    " 'POS_CASH_balance.csv',\n",
    " 'credit_card_balance.csv',\n",
    " 'installments_payments.csv',\n",
    " 'application_train.csv',\n",
    " 'bureau.csv',\n",
    " 'previous_application.csv',\n",
    " 'bureau_balance.csv',\n",
    " 'sample_submission.csv']\n",
    " \n",
    "3) objetivos:\n",
    "* entendimento do problema de negócio\n",
    "* carregamento do dataset\n",
    "* identificação e tratamento de NaN\n",
    "* exploração univariadaj, bivariada\n",
    "* visualizações\n",
    "* insights de negócio\n",
    "* formatação do dataset para algoritmos de machine learning\n",
    "* criação de features: agregação de dados, junção de dois ou mais dataframes\n",
    "\n",
    "4) entregável: jupyter notebook. Não será necessário apresentação em powerpoint, nem relatório.\n",
    "\n",
    "5) entrega limite: 8/agosto/2018 \n",
    "\n",
    "6) trabalho individual. Haverá aplicação sistema anti-plágio nas submissões. (http://www.fgv.br/mailing/codigo-etica-conduta/24/)\n",
    "   suspeitas de plágio estarão sujeitos a arguição oral de 5 mins por aluno no ultimo dia de aula (11/agosto/2018),\n",
    "\n",
    "7) avaliação:\n",
    "   - jupyter notebook e arguição (se houver)"
   ]
  },
  {
   "cell_type": "markdown",
   "metadata": {},
   "source": [
    "### Problema de Negócio\n",
    "\n",
    "##### Do Kaggle:\n",
    "Many people struggle to get loans due to insufficient or non-existent credit histories. And, unfortunately, this population is often taken advantage of by untrustworthy lenders.\n",
    "\n",
    "Home Credit strives to broaden financial inclusion for the unbanked population by providing a positive and safe borrowing experience. In order to make sure this underserved population has a positive loan experience, Home Credit makes use of a variety of alternative data--including telco and transactional information--to predict their clients' repayment abilities.\n",
    "\n",
    "While Home Credit is currently using various statistical and machine learning methods to make these predictions, they're challenging Kagglers to help them unlock the full potential of their data. Doing so will ensure that clients capable of repayment are not rejected and that loans are given with a principal, maturity, and repayment calendar that will empower their clients to be successful.\n",
    "\n",
    "##### Entendimento do problema:\n",
    "\n",
    "Como fornecer crédito para pessoas com histórico insuficiente ou inexistente?\n",
    "\n",
    "Utilizando estes dados alternativos, pode ser criado um modelo preditivo quer será usado para fazer uma análise das pessoas, para saber se elas tem um histórico de bom pagamento, e fornecer crédito para estas pessoas."
   ]
  },
  {
   "cell_type": "markdown",
   "metadata": {},
   "source": [
    "#### importando as bibliotecas que serão utilizadas"
   ]
  },
  {
   "cell_type": "code",
   "execution_count": 1,
   "metadata": {},
   "outputs": [
    {
     "data": {
      "text/plain": [
       "'0.23.3'"
      ]
     },
     "execution_count": 1,
     "metadata": {},
     "output_type": "execute_result"
    }
   ],
   "source": [
    "import pandas as pd\n",
    "import numpy as np\n",
    "%matplotlib inline\n",
    "\n",
    "import matplotlib.pyplot as plt\n",
    "import missingno as mn\n",
    "\n",
    "import seaborn as sns\n",
    "\n",
    "pd.__version__\n",
    "\n"
   ]
  },
  {
   "cell_type": "markdown",
   "metadata": {},
   "source": [
    "#### lendo o dataframe"
   ]
  },
  {
   "cell_type": "code",
   "execution_count": 2,
   "metadata": {},
   "outputs": [],
   "source": [
    "df = pd.read_csv('application_train.csv',index_col=0)"
   ]
  },
  {
   "cell_type": "markdown",
   "metadata": {},
   "source": [
    "#### escolhendo as colunas que serão trabalhadas"
   ]
  },
  {
   "cell_type": "code",
   "execution_count": 3,
   "metadata": {},
   "outputs": [],
   "source": [
    "semente = 2701 #Data de aniversário\n",
    "df40 = pd.concat([df.iloc[:,0:30], df.iloc[:,30:].sample(10,axis=1,random_state=semente)], axis=1 )"
   ]
  },
  {
   "cell_type": "code",
   "execution_count": 5,
   "metadata": {},
   "outputs": [
    {
     "data": {
      "text/plain": [
       "(307511, 40)"
      ]
     },
     "execution_count": 5,
     "metadata": {},
     "output_type": "execute_result"
    }
   ],
   "source": [
    "df40.shape"
   ]
  },
  {
   "cell_type": "code",
   "execution_count": 4,
   "metadata": {},
   "outputs": [],
   "source": [
    "df40.to_csv('application_train_40c.csv')"
   ]
  },
  {
   "cell_type": "code",
   "execution_count": 6,
   "metadata": {},
   "outputs": [],
   "source": [
    "del df"
   ]
  },
  {
   "cell_type": "markdown",
   "metadata": {},
   "source": [
    "#### conhecendo o dataframe"
   ]
  },
  {
   "cell_type": "code",
   "execution_count": 7,
   "metadata": {},
   "outputs": [],
   "source": [
    "df40 = pd.read_csv('application_train_40c.csv',index_col=0)"
   ]
  },
  {
   "cell_type": "code",
   "execution_count": 8,
   "metadata": {},
   "outputs": [
    {
     "data": {
      "text/plain": [
       "(307511, 40)"
      ]
     },
     "execution_count": 8,
     "metadata": {},
     "output_type": "execute_result"
    }
   ],
   "source": [
    "df40.shape"
   ]
  },
  {
   "cell_type": "code",
   "execution_count": 9,
   "metadata": {},
   "outputs": [
    {
     "data": {
      "text/html": [
       "<div>\n",
       "<style scoped>\n",
       "    .dataframe tbody tr th:only-of-type {\n",
       "        vertical-align: middle;\n",
       "    }\n",
       "\n",
       "    .dataframe tbody tr th {\n",
       "        vertical-align: top;\n",
       "    }\n",
       "\n",
       "    .dataframe thead th {\n",
       "        text-align: right;\n",
       "    }\n",
       "</style>\n",
       "<table border=\"1\" class=\"dataframe\">\n",
       "  <thead>\n",
       "    <tr style=\"text-align: right;\">\n",
       "      <th></th>\n",
       "      <th>TARGET</th>\n",
       "      <th>NAME_CONTRACT_TYPE</th>\n",
       "      <th>CODE_GENDER</th>\n",
       "      <th>FLAG_OWN_CAR</th>\n",
       "      <th>FLAG_OWN_REALTY</th>\n",
       "      <th>CNT_CHILDREN</th>\n",
       "      <th>AMT_INCOME_TOTAL</th>\n",
       "      <th>AMT_CREDIT</th>\n",
       "      <th>AMT_ANNUITY</th>\n",
       "      <th>AMT_GOODS_PRICE</th>\n",
       "      <th>...</th>\n",
       "      <th>FLAG_DOCUMENT_19</th>\n",
       "      <th>DAYS_LAST_PHONE_CHANGE</th>\n",
       "      <th>LIVINGAPARTMENTS_MODE</th>\n",
       "      <th>LANDAREA_AVG</th>\n",
       "      <th>BASEMENTAREA_MODE</th>\n",
       "      <th>OBS_30_CNT_SOCIAL_CIRCLE</th>\n",
       "      <th>FLAG_DOCUMENT_9</th>\n",
       "      <th>EMERGENCYSTATE_MODE</th>\n",
       "      <th>FLOORSMAX_MODE</th>\n",
       "      <th>AMT_REQ_CREDIT_BUREAU_HOUR</th>\n",
       "    </tr>\n",
       "    <tr>\n",
       "      <th>SK_ID_CURR</th>\n",
       "      <th></th>\n",
       "      <th></th>\n",
       "      <th></th>\n",
       "      <th></th>\n",
       "      <th></th>\n",
       "      <th></th>\n",
       "      <th></th>\n",
       "      <th></th>\n",
       "      <th></th>\n",
       "      <th></th>\n",
       "      <th></th>\n",
       "      <th></th>\n",
       "      <th></th>\n",
       "      <th></th>\n",
       "      <th></th>\n",
       "      <th></th>\n",
       "      <th></th>\n",
       "      <th></th>\n",
       "      <th></th>\n",
       "      <th></th>\n",
       "      <th></th>\n",
       "    </tr>\n",
       "  </thead>\n",
       "  <tbody>\n",
       "    <tr>\n",
       "      <th>100002</th>\n",
       "      <td>1</td>\n",
       "      <td>Cash loans</td>\n",
       "      <td>M</td>\n",
       "      <td>N</td>\n",
       "      <td>Y</td>\n",
       "      <td>0</td>\n",
       "      <td>202500.0</td>\n",
       "      <td>406597.5</td>\n",
       "      <td>24700.5</td>\n",
       "      <td>351000.0</td>\n",
       "      <td>...</td>\n",
       "      <td>0</td>\n",
       "      <td>-1134.0</td>\n",
       "      <td>0.022</td>\n",
       "      <td>0.0369</td>\n",
       "      <td>0.0383</td>\n",
       "      <td>2.0</td>\n",
       "      <td>0</td>\n",
       "      <td>No</td>\n",
       "      <td>0.0833</td>\n",
       "      <td>0.0</td>\n",
       "    </tr>\n",
       "    <tr>\n",
       "      <th>100003</th>\n",
       "      <td>0</td>\n",
       "      <td>Cash loans</td>\n",
       "      <td>F</td>\n",
       "      <td>N</td>\n",
       "      <td>N</td>\n",
       "      <td>0</td>\n",
       "      <td>270000.0</td>\n",
       "      <td>1293502.5</td>\n",
       "      <td>35698.5</td>\n",
       "      <td>1129500.0</td>\n",
       "      <td>...</td>\n",
       "      <td>0</td>\n",
       "      <td>-828.0</td>\n",
       "      <td>0.079</td>\n",
       "      <td>0.0130</td>\n",
       "      <td>0.0538</td>\n",
       "      <td>1.0</td>\n",
       "      <td>0</td>\n",
       "      <td>No</td>\n",
       "      <td>0.2917</td>\n",
       "      <td>0.0</td>\n",
       "    </tr>\n",
       "    <tr>\n",
       "      <th>100004</th>\n",
       "      <td>0</td>\n",
       "      <td>Revolving loans</td>\n",
       "      <td>M</td>\n",
       "      <td>Y</td>\n",
       "      <td>Y</td>\n",
       "      <td>0</td>\n",
       "      <td>67500.0</td>\n",
       "      <td>135000.0</td>\n",
       "      <td>6750.0</td>\n",
       "      <td>135000.0</td>\n",
       "      <td>...</td>\n",
       "      <td>0</td>\n",
       "      <td>-815.0</td>\n",
       "      <td>NaN</td>\n",
       "      <td>NaN</td>\n",
       "      <td>NaN</td>\n",
       "      <td>0.0</td>\n",
       "      <td>0</td>\n",
       "      <td>NaN</td>\n",
       "      <td>NaN</td>\n",
       "      <td>0.0</td>\n",
       "    </tr>\n",
       "    <tr>\n",
       "      <th>100006</th>\n",
       "      <td>0</td>\n",
       "      <td>Cash loans</td>\n",
       "      <td>F</td>\n",
       "      <td>N</td>\n",
       "      <td>Y</td>\n",
       "      <td>0</td>\n",
       "      <td>135000.0</td>\n",
       "      <td>312682.5</td>\n",
       "      <td>29686.5</td>\n",
       "      <td>297000.0</td>\n",
       "      <td>...</td>\n",
       "      <td>0</td>\n",
       "      <td>-617.0</td>\n",
       "      <td>NaN</td>\n",
       "      <td>NaN</td>\n",
       "      <td>NaN</td>\n",
       "      <td>2.0</td>\n",
       "      <td>0</td>\n",
       "      <td>NaN</td>\n",
       "      <td>NaN</td>\n",
       "      <td>NaN</td>\n",
       "    </tr>\n",
       "    <tr>\n",
       "      <th>100007</th>\n",
       "      <td>0</td>\n",
       "      <td>Cash loans</td>\n",
       "      <td>M</td>\n",
       "      <td>N</td>\n",
       "      <td>Y</td>\n",
       "      <td>0</td>\n",
       "      <td>121500.0</td>\n",
       "      <td>513000.0</td>\n",
       "      <td>21865.5</td>\n",
       "      <td>513000.0</td>\n",
       "      <td>...</td>\n",
       "      <td>0</td>\n",
       "      <td>-1106.0</td>\n",
       "      <td>NaN</td>\n",
       "      <td>NaN</td>\n",
       "      <td>NaN</td>\n",
       "      <td>0.0</td>\n",
       "      <td>0</td>\n",
       "      <td>NaN</td>\n",
       "      <td>NaN</td>\n",
       "      <td>0.0</td>\n",
       "    </tr>\n",
       "  </tbody>\n",
       "</table>\n",
       "<p>5 rows × 40 columns</p>\n",
       "</div>"
      ],
      "text/plain": [
       "            TARGET NAME_CONTRACT_TYPE CODE_GENDER FLAG_OWN_CAR  \\\n",
       "SK_ID_CURR                                                       \n",
       "100002           1         Cash loans           M            N   \n",
       "100003           0         Cash loans           F            N   \n",
       "100004           0    Revolving loans           M            Y   \n",
       "100006           0         Cash loans           F            N   \n",
       "100007           0         Cash loans           M            N   \n",
       "\n",
       "           FLAG_OWN_REALTY  CNT_CHILDREN  AMT_INCOME_TOTAL  AMT_CREDIT  \\\n",
       "SK_ID_CURR                                                               \n",
       "100002                   Y             0          202500.0    406597.5   \n",
       "100003                   N             0          270000.0   1293502.5   \n",
       "100004                   Y             0           67500.0    135000.0   \n",
       "100006                   Y             0          135000.0    312682.5   \n",
       "100007                   Y             0          121500.0    513000.0   \n",
       "\n",
       "            AMT_ANNUITY  AMT_GOODS_PRICE             ...              \\\n",
       "SK_ID_CURR                                           ...               \n",
       "100002          24700.5         351000.0             ...               \n",
       "100003          35698.5        1129500.0             ...               \n",
       "100004           6750.0         135000.0             ...               \n",
       "100006          29686.5         297000.0             ...               \n",
       "100007          21865.5         513000.0             ...               \n",
       "\n",
       "           FLAG_DOCUMENT_19 DAYS_LAST_PHONE_CHANGE LIVINGAPARTMENTS_MODE  \\\n",
       "SK_ID_CURR                                                                 \n",
       "100002                    0                -1134.0                 0.022   \n",
       "100003                    0                 -828.0                 0.079   \n",
       "100004                    0                 -815.0                   NaN   \n",
       "100006                    0                 -617.0                   NaN   \n",
       "100007                    0                -1106.0                   NaN   \n",
       "\n",
       "           LANDAREA_AVG BASEMENTAREA_MODE  OBS_30_CNT_SOCIAL_CIRCLE  \\\n",
       "SK_ID_CURR                                                            \n",
       "100002           0.0369            0.0383                       2.0   \n",
       "100003           0.0130            0.0538                       1.0   \n",
       "100004              NaN               NaN                       0.0   \n",
       "100006              NaN               NaN                       2.0   \n",
       "100007              NaN               NaN                       0.0   \n",
       "\n",
       "            FLAG_DOCUMENT_9  EMERGENCYSTATE_MODE  FLOORSMAX_MODE  \\\n",
       "SK_ID_CURR                                                         \n",
       "100002                    0                   No          0.0833   \n",
       "100003                    0                   No          0.2917   \n",
       "100004                    0                  NaN             NaN   \n",
       "100006                    0                  NaN             NaN   \n",
       "100007                    0                  NaN             NaN   \n",
       "\n",
       "            AMT_REQ_CREDIT_BUREAU_HOUR  \n",
       "SK_ID_CURR                              \n",
       "100002                             0.0  \n",
       "100003                             0.0  \n",
       "100004                             0.0  \n",
       "100006                             NaN  \n",
       "100007                             0.0  \n",
       "\n",
       "[5 rows x 40 columns]"
      ]
     },
     "execution_count": 9,
     "metadata": {},
     "output_type": "execute_result"
    }
   ],
   "source": [
    "df40.head()"
   ]
  },
  {
   "cell_type": "code",
   "execution_count": 10,
   "metadata": {},
   "outputs": [
    {
     "name": "stdout",
     "output_type": "stream",
     "text": [
      "<class 'pandas.core.frame.DataFrame'>\n",
      "Int64Index: 307511 entries, 100002 to 456255\n",
      "Data columns (total 40 columns):\n",
      "TARGET                        307511 non-null int64\n",
      "NAME_CONTRACT_TYPE            307511 non-null object\n",
      "CODE_GENDER                   307511 non-null object\n",
      "FLAG_OWN_CAR                  307511 non-null object\n",
      "FLAG_OWN_REALTY               307511 non-null object\n",
      "CNT_CHILDREN                  307511 non-null int64\n",
      "AMT_INCOME_TOTAL              307511 non-null float64\n",
      "AMT_CREDIT                    307511 non-null float64\n",
      "AMT_ANNUITY                   307499 non-null float64\n",
      "AMT_GOODS_PRICE               307233 non-null float64\n",
      "NAME_TYPE_SUITE               306219 non-null object\n",
      "NAME_INCOME_TYPE              307511 non-null object\n",
      "NAME_EDUCATION_TYPE           307511 non-null object\n",
      "NAME_FAMILY_STATUS            307511 non-null object\n",
      "NAME_HOUSING_TYPE             307511 non-null object\n",
      "REGION_POPULATION_RELATIVE    307511 non-null float64\n",
      "DAYS_BIRTH                    307511 non-null int64\n",
      "DAYS_EMPLOYED                 307511 non-null int64\n",
      "DAYS_REGISTRATION             307511 non-null float64\n",
      "DAYS_ID_PUBLISH               307511 non-null int64\n",
      "OWN_CAR_AGE                   104582 non-null float64\n",
      "FLAG_MOBIL                    307511 non-null int64\n",
      "FLAG_EMP_PHONE                307511 non-null int64\n",
      "FLAG_WORK_PHONE               307511 non-null int64\n",
      "FLAG_CONT_MOBILE              307511 non-null int64\n",
      "FLAG_PHONE                    307511 non-null int64\n",
      "FLAG_EMAIL                    307511 non-null int64\n",
      "OCCUPATION_TYPE               211120 non-null object\n",
      "CNT_FAM_MEMBERS               307509 non-null float64\n",
      "REGION_RATING_CLIENT          307511 non-null int64\n",
      "FLAG_DOCUMENT_19              307511 non-null int64\n",
      "DAYS_LAST_PHONE_CHANGE        307510 non-null float64\n",
      "LIVINGAPARTMENTS_MODE         97312 non-null float64\n",
      "LANDAREA_AVG                  124921 non-null float64\n",
      "BASEMENTAREA_MODE             127568 non-null float64\n",
      "OBS_30_CNT_SOCIAL_CIRCLE      306490 non-null float64\n",
      "FLAG_DOCUMENT_9               307511 non-null int64\n",
      "EMERGENCYSTATE_MODE           161756 non-null object\n",
      "FLOORSMAX_MODE                154491 non-null float64\n",
      "AMT_REQ_CREDIT_BUREAU_HOUR    265992 non-null float64\n",
      "dtypes: float64(15), int64(14), object(11)\n",
      "memory usage: 96.2+ MB\n"
     ]
    }
   ],
   "source": [
    "df40.info(verbose=True,null_counts=True)"
   ]
  },
  {
   "cell_type": "code",
   "execution_count": 11,
   "metadata": {},
   "outputs": [
    {
     "data": {
      "text/plain": [
       "<matplotlib.axes._subplots.AxesSubplot at 0x1f8bf2fe710>"
      ]
     },
     "execution_count": 11,
     "metadata": {},
     "output_type": "execute_result"
    },
    {
     "data": {
      "image/png": "[encoded data removed]",
      "text/plain": [
       "<Figure size 2880x432 with 3 Axes>"
      ]
     },
     "metadata": {},
     "output_type": "display_data"
    }
   ],
   "source": [
    "mn.bar(df40,figsize=(40,6))"
   ]
  },
  {
   "cell_type": "code",
   "execution_count": 23,
   "metadata": {},
   "outputs": [
    {
     "data": {
      "text/plain": [
       "array(['AMT_ANNUITY', 'AMT_CREDIT', 'AMT_GOODS_PRICE', 'AMT_INCOME_TOTAL',\n",
       "       'AMT_REQ_CREDIT_BUREAU_HOUR', 'BASEMENTAREA_MODE', 'CNT_CHILDREN',\n",
       "       'CNT_FAM_MEMBERS', 'CODE_GENDER', 'DAYS_BIRTH', 'DAYS_EMPLOYED',\n",
       "       'DAYS_ID_PUBLISH', 'DAYS_LAST_PHONE_CHANGE', 'DAYS_REGISTRATION',\n",
       "       'EMERGENCYSTATE_MODE', 'FLAG_CONT_MOBILE', 'FLAG_DOCUMENT_19',\n",
       "       'FLAG_DOCUMENT_9', 'FLAG_EMAIL', 'FLAG_EMP_PHONE', 'FLAG_MOBIL',\n",
       "       'FLAG_OWN_CAR', 'FLAG_OWN_REALTY', 'FLAG_PHONE', 'FLAG_WORK_PHONE',\n",
       "       'FLOORSMAX_MODE', 'LANDAREA_AVG', 'LIVINGAPARTMENTS_MODE',\n",
       "       'NAME_CONTRACT_TYPE', 'NAME_EDUCATION_TYPE', 'NAME_FAMILY_STATUS',\n",
       "       'NAME_HOUSING_TYPE', 'NAME_INCOME_TYPE', 'NAME_TYPE_SUITE',\n",
       "       'OBS_30_CNT_SOCIAL_CIRCLE', 'OCCUPATION_TYPE', 'OWN_CAR_AGE',\n",
       "       'REGION_POPULATION_RELATIVE', 'REGION_RATING_CLIENT', 'TARGET'],\n",
       "      dtype=object)"
      ]
     },
     "execution_count": 23,
     "metadata": {},
     "output_type": "execute_result"
    }
   ],
   "source": [
    "np.sort(df40.columns)"
   ]
  },
  {
   "cell_type": "code",
   "execution_count": 30,
   "metadata": {},
   "outputs": [
    {
     "data": {
      "text/plain": [
       "SK_ID_CURR\n",
       "100002    24700.5\n",
       "100003    35698.5\n",
       "100004     6750.0\n",
       "100006    29686.5\n",
       "100007    21865.5\n",
       "Name: AMT_ANNUITY, dtype: float64"
      ]
     },
     "execution_count": 30,
     "metadata": {},
     "output_type": "execute_result"
    }
   ],
   "source": [
    "df40.AMT_ANNUITY.head()"
   ]
  },
  {
   "cell_type": "code",
   "execution_count": 55,
   "metadata": {},
   "outputs": [],
   "source": [
    "df40a = pd.DataFrame()"
   ]
  },
  {
   "cell_type": "code",
   "execution_count": 56,
   "metadata": {},
   "outputs": [],
   "source": [
    "df40a['TARGET'] = df40.TARGET"
   ]
  },
  {
   "cell_type": "code",
   "execution_count": 57,
   "metadata": {},
   "outputs": [],
   "source": [
    "df40a['NORM_AMT_ANNUITY'] = np.nan\n",
    "df40a.NORM_AMT_ANNUITY = (df40.AMT_ANNUITY - df40.AMT_ANNUITY.mean()) / (df40.AMT_ANNUITY.max() - df40.AMT_ANNUITY.min())"
   ]
  },
  {
   "cell_type": "code",
   "execution_count": 58,
   "metadata": {},
   "outputs": [
    {
     "data": {
      "text/html": [
       "<div>\n",
       "<style scoped>\n",
       "    .dataframe tbody tr th:only-of-type {\n",
       "        vertical-align: middle;\n",
       "    }\n",
       "\n",
       "    .dataframe tbody tr th {\n",
       "        vertical-align: top;\n",
       "    }\n",
       "\n",
       "    .dataframe thead th {\n",
       "        text-align: right;\n",
       "    }\n",
       "</style>\n",
       "<table border=\"1\" class=\"dataframe\">\n",
       "  <thead>\n",
       "    <tr style=\"text-align: right;\">\n",
       "      <th></th>\n",
       "      <th>TARGET</th>\n",
       "      <th>NORM_AMT_ANNUITY</th>\n",
       "    </tr>\n",
       "    <tr>\n",
       "      <th>SK_ID_CURR</th>\n",
       "      <th></th>\n",
       "      <th></th>\n",
       "    </tr>\n",
       "  </thead>\n",
       "  <tbody>\n",
       "    <tr>\n",
       "      <th>100002</th>\n",
       "      <td>1</td>\n",
       "      <td>-0.009391</td>\n",
       "    </tr>\n",
       "    <tr>\n",
       "      <th>100003</th>\n",
       "      <td>0</td>\n",
       "      <td>0.033501</td>\n",
       "    </tr>\n",
       "    <tr>\n",
       "      <th>100004</th>\n",
       "      <td>0</td>\n",
       "      <td>-0.079399</td>\n",
       "    </tr>\n",
       "    <tr>\n",
       "      <th>100006</th>\n",
       "      <td>0</td>\n",
       "      <td>0.010054</td>\n",
       "    </tr>\n",
       "    <tr>\n",
       "      <th>100007</th>\n",
       "      <td>0</td>\n",
       "      <td>-0.020448</td>\n",
       "    </tr>\n",
       "  </tbody>\n",
       "</table>\n",
       "</div>"
      ],
      "text/plain": [
       "            TARGET  NORM_AMT_ANNUITY\n",
       "SK_ID_CURR                          \n",
       "100002           1         -0.009391\n",
       "100003           0          0.033501\n",
       "100004           0         -0.079399\n",
       "100006           0          0.010054\n",
       "100007           0         -0.020448"
      ]
     },
     "execution_count": 58,
     "metadata": {},
     "output_type": "execute_result"
    }
   ],
   "source": [
    "df40a.head()"
   ]
  },
  {
   "cell_type": "code",
   "execution_count": 47,
   "metadata": {},
   "outputs": [
    {
     "data": {
      "text/plain": [
       "SK_ID_CURR\n",
       "100002     406597.5\n",
       "100003    1293502.5\n",
       "100004     135000.0\n",
       "100006     312682.5\n",
       "100007     513000.0\n",
       "Name: AMT_CREDIT, dtype: float64"
      ]
     },
     "execution_count": 47,
     "metadata": {},
     "output_type": "execute_result"
    }
   ],
   "source": [
    "df40.AMT_CREDIT.head()"
   ]
  },
  {
   "cell_type": "code",
   "execution_count": 48,
   "metadata": {},
   "outputs": [],
   "source": [
    "df40a['NORM_AMT_CREDIT'] = np.nan\n",
    "df40a.NORM_AMT_CREDIT = (df40.AMT_CREDIT - df40.AMT_CREDIT.mean()) / (df40.AMT_CREDIT.max() - df40.AMT_CREDIT.min())"
   ]
  },
  {
   "cell_type": "code",
   "execution_count": 49,
   "metadata": {},
   "outputs": [
    {
     "data": {
      "text/html": [
       "<div>\n",
       "<style scoped>\n",
       "    .dataframe tbody tr th:only-of-type {\n",
       "        vertical-align: middle;\n",
       "    }\n",
       "\n",
       "    .dataframe tbody tr th {\n",
       "        vertical-align: top;\n",
       "    }\n",
       "\n",
       "    .dataframe thead th {\n",
       "        text-align: right;\n",
       "    }\n",
       "</style>\n",
       "<table border=\"1\" class=\"dataframe\">\n",
       "  <thead>\n",
       "    <tr style=\"text-align: right;\">\n",
       "      <th></th>\n",
       "      <th>NORM_AMT_ANNUITY</th>\n",
       "      <th>NORM_AMT_CREDIT</th>\n",
       "    </tr>\n",
       "    <tr>\n",
       "      <th>SK_ID_CURR</th>\n",
       "      <th></th>\n",
       "      <th></th>\n",
       "    </tr>\n",
       "  </thead>\n",
       "  <tbody>\n",
       "    <tr>\n",
       "      <th>100002</th>\n",
       "      <td>-0.009391</td>\n",
       "      <td>-0.048047</td>\n",
       "    </tr>\n",
       "    <tr>\n",
       "      <th>100003</th>\n",
       "      <td>0.033501</td>\n",
       "      <td>0.173402</td>\n",
       "    </tr>\n",
       "    <tr>\n",
       "      <th>100004</th>\n",
       "      <td>-0.079399</td>\n",
       "      <td>-0.115862</td>\n",
       "    </tr>\n",
       "    <tr>\n",
       "      <th>100006</th>\n",
       "      <td>0.010054</td>\n",
       "      <td>-0.071497</td>\n",
       "    </tr>\n",
       "    <tr>\n",
       "      <th>100007</th>\n",
       "      <td>-0.020448</td>\n",
       "      <td>-0.021480</td>\n",
       "    </tr>\n",
       "  </tbody>\n",
       "</table>\n",
       "</div>"
      ],
      "text/plain": [
       "            NORM_AMT_ANNUITY  NORM_AMT_CREDIT\n",
       "SK_ID_CURR                                   \n",
       "100002             -0.009391        -0.048047\n",
       "100003              0.033501         0.173402\n",
       "100004             -0.079399        -0.115862\n",
       "100006              0.010054        -0.071497\n",
       "100007             -0.020448        -0.021480"
      ]
     },
     "execution_count": 49,
     "metadata": {},
     "output_type": "execute_result"
    }
   ],
   "source": [
    "df40a.head()"
   ]
  },
  {
   "cell_type": "code",
   "execution_count": 52,
   "metadata": {},
   "outputs": [],
   "source": [
    "df40a['NORM_AMT_GOODS_PRICE'] = np.nan\n",
    "df40a.NORM_AMT_GOODS_PRICE = (df40.AMT_GOODS_PRICE - df40.AMT_GOODS_PRICE.mean()) / (df40.AMT_GOODS_PRICE.max() - df40.AMT_CREDIT.min())"
   ]
  },
  {
   "cell_type": "code",
   "execution_count": 59,
   "metadata": {},
   "outputs": [
    {
     "data": {
      "text/plain": [
       "SK_ID_CURR\n",
       "100002    0.0383\n",
       "100003    0.0538\n",
       "100004       NaN\n",
       "100006       NaN\n",
       "100007       NaN\n",
       "Name: BASEMENTAREA_MODE, dtype: float64"
      ]
     },
     "execution_count": 59,
     "metadata": {},
     "output_type": "execute_result"
    }
   ],
   "source": [
    "df40.BASEMENTAREA_MODE.head()"
   ]
  },
  {
   "cell_type": "code",
   "execution_count": 64,
   "metadata": {},
   "outputs": [
    {
     "data": {
      "text/html": [
       "<div>\n",
       "<style scoped>\n",
       "    .dataframe tbody tr th:only-of-type {\n",
       "        vertical-align: middle;\n",
       "    }\n",
       "\n",
       "    .dataframe tbody tr th {\n",
       "        vertical-align: top;\n",
       "    }\n",
       "\n",
       "    .dataframe thead th {\n",
       "        text-align: right;\n",
       "    }\n",
       "</style>\n",
       "<table border=\"1\" class=\"dataframe\">\n",
       "  <thead>\n",
       "    <tr style=\"text-align: right;\">\n",
       "      <th></th>\n",
       "      <th>TARGET</th>\n",
       "      <th>NORM_AMT_ANNUITY</th>\n",
       "      <th>NORM_BASEMENTAREA_MODE</th>\n",
       "    </tr>\n",
       "    <tr>\n",
       "      <th>SK_ID_CURR</th>\n",
       "      <th></th>\n",
       "      <th></th>\n",
       "      <th></th>\n",
       "    </tr>\n",
       "  </thead>\n",
       "  <tbody>\n",
       "    <tr>\n",
       "      <th>100002</th>\n",
       "      <td>1</td>\n",
       "      <td>-0.009391</td>\n",
       "      <td>-0.049243</td>\n",
       "    </tr>\n",
       "    <tr>\n",
       "      <th>100003</th>\n",
       "      <td>0</td>\n",
       "      <td>0.033501</td>\n",
       "      <td>-0.033743</td>\n",
       "    </tr>\n",
       "    <tr>\n",
       "      <th>100004</th>\n",
       "      <td>0</td>\n",
       "      <td>-0.079399</td>\n",
       "      <td>NaN</td>\n",
       "    </tr>\n",
       "    <tr>\n",
       "      <th>100006</th>\n",
       "      <td>0</td>\n",
       "      <td>0.010054</td>\n",
       "      <td>NaN</td>\n",
       "    </tr>\n",
       "    <tr>\n",
       "      <th>100007</th>\n",
       "      <td>0</td>\n",
       "      <td>-0.020448</td>\n",
       "      <td>NaN</td>\n",
       "    </tr>\n",
       "  </tbody>\n",
       "</table>\n",
       "</div>"
      ],
      "text/plain": [
       "            TARGET  NORM_AMT_ANNUITY  NORM_BASEMENTAREA_MODE\n",
       "SK_ID_CURR                                                  \n",
       "100002           1         -0.009391               -0.049243\n",
       "100003           0          0.033501               -0.033743\n",
       "100004           0         -0.079399                     NaN\n",
       "100006           0          0.010054                     NaN\n",
       "100007           0         -0.020448                     NaN"
      ]
     },
     "execution_count": 64,
     "metadata": {},
     "output_type": "execute_result"
    }
   ],
   "source": [
    "df40a['NORM_BASEMENTAREA_MODE'] = np.nan\n",
    "df40a.NORM_BASEMENTAREA_MODE = (df40.BASEMENTAREA_MODE - df40.BASEMENTAREA_MODE.mean()) / (df40.BASEMENTAREA_MODE.max() - df40.BASEMENTAREA_MODE.min())\n",
    "\n",
    "df40a.head()\n"
   ]
  },
  {
   "cell_type": "code",
   "execution_count": 67,
   "metadata": {},
   "outputs": [],
   "source": [
    "df40a.NORM_BASEMENTAREA_MODE.fillna(df40a.NORM_BASEMENTAREA_MODE.mean(),inplace=True)"
   ]
  },
  {
   "cell_type": "code",
   "execution_count": 68,
   "metadata": {},
   "outputs": [
    {
     "data": {
      "text/html": [
       "<div>\n",
       "<style scoped>\n",
       "    .dataframe tbody tr th:only-of-type {\n",
       "        vertical-align: middle;\n",
       "    }\n",
       "\n",
       "    .dataframe tbody tr th {\n",
       "        vertical-align: top;\n",
       "    }\n",
       "\n",
       "    .dataframe thead th {\n",
       "        text-align: right;\n",
       "    }\n",
       "</style>\n",
       "<table border=\"1\" class=\"dataframe\">\n",
       "  <thead>\n",
       "    <tr style=\"text-align: right;\">\n",
       "      <th></th>\n",
       "      <th>TARGET</th>\n",
       "      <th>NORM_AMT_ANNUITY</th>\n",
       "      <th>NORM_BASEMENTAREA_MODE</th>\n",
       "    </tr>\n",
       "    <tr>\n",
       "      <th>SK_ID_CURR</th>\n",
       "      <th></th>\n",
       "      <th></th>\n",
       "      <th></th>\n",
       "    </tr>\n",
       "  </thead>\n",
       "  <tbody>\n",
       "    <tr>\n",
       "      <th>100002</th>\n",
       "      <td>1</td>\n",
       "      <td>-0.009391</td>\n",
       "      <td>-4.924321e-02</td>\n",
       "    </tr>\n",
       "    <tr>\n",
       "      <th>100003</th>\n",
       "      <td>0</td>\n",
       "      <td>0.033501</td>\n",
       "      <td>-3.374321e-02</td>\n",
       "    </tr>\n",
       "    <tr>\n",
       "      <th>100004</th>\n",
       "      <td>0</td>\n",
       "      <td>-0.079399</td>\n",
       "      <td>2.941959e-17</td>\n",
       "    </tr>\n",
       "    <tr>\n",
       "      <th>100006</th>\n",
       "      <td>0</td>\n",
       "      <td>0.010054</td>\n",
       "      <td>2.941959e-17</td>\n",
       "    </tr>\n",
       "    <tr>\n",
       "      <th>100007</th>\n",
       "      <td>0</td>\n",
       "      <td>-0.020448</td>\n",
       "      <td>2.941959e-17</td>\n",
       "    </tr>\n",
       "  </tbody>\n",
       "</table>\n",
       "</div>"
      ],
      "text/plain": [
       "            TARGET  NORM_AMT_ANNUITY  NORM_BASEMENTAREA_MODE\n",
       "SK_ID_CURR                                                  \n",
       "100002           1         -0.009391           -4.924321e-02\n",
       "100003           0          0.033501           -3.374321e-02\n",
       "100004           0         -0.079399            2.941959e-17\n",
       "100006           0          0.010054            2.941959e-17\n",
       "100007           0         -0.020448            2.941959e-17"
      ]
     },
     "execution_count": 68,
     "metadata": {},
     "output_type": "execute_result"
    }
   ],
   "source": [
    "df40a.head()\n"
   ]
  },
  {
   "cell_type": "code",
   "execution_count": 70,
   "metadata": {},
   "outputs": [
    {
     "data": {
      "text/html": [
       "<div>\n",
       "<style scoped>\n",
       "    .dataframe tbody tr th:only-of-type {\n",
       "        vertical-align: middle;\n",
       "    }\n",
       "\n",
       "    .dataframe tbody tr th {\n",
       "        vertical-align: top;\n",
       "    }\n",
       "\n",
       "    .dataframe thead th {\n",
       "        text-align: right;\n",
       "    }\n",
       "</style>\n",
       "<table border=\"1\" class=\"dataframe\">\n",
       "  <thead>\n",
       "    <tr style=\"text-align: right;\">\n",
       "      <th></th>\n",
       "      <th>TARGET</th>\n",
       "      <th>NORM_AMT_ANNUITY</th>\n",
       "      <th>NORM_BASEMENTAREA_MODE</th>\n",
       "      <th>NORM_CNT_CHILDREN</th>\n",
       "    </tr>\n",
       "    <tr>\n",
       "      <th>SK_ID_CURR</th>\n",
       "      <th></th>\n",
       "      <th></th>\n",
       "      <th></th>\n",
       "      <th></th>\n",
       "    </tr>\n",
       "  </thead>\n",
       "  <tbody>\n",
       "    <tr>\n",
       "      <th>100002</th>\n",
       "      <td>1</td>\n",
       "      <td>-0.009391</td>\n",
       "      <td>-4.924321e-02</td>\n",
       "      <td>-0.02195</td>\n",
       "    </tr>\n",
       "    <tr>\n",
       "      <th>100003</th>\n",
       "      <td>0</td>\n",
       "      <td>0.033501</td>\n",
       "      <td>-3.374321e-02</td>\n",
       "      <td>-0.02195</td>\n",
       "    </tr>\n",
       "    <tr>\n",
       "      <th>100004</th>\n",
       "      <td>0</td>\n",
       "      <td>-0.079399</td>\n",
       "      <td>2.941959e-17</td>\n",
       "      <td>-0.02195</td>\n",
       "    </tr>\n",
       "    <tr>\n",
       "      <th>100006</th>\n",
       "      <td>0</td>\n",
       "      <td>0.010054</td>\n",
       "      <td>2.941959e-17</td>\n",
       "      <td>-0.02195</td>\n",
       "    </tr>\n",
       "    <tr>\n",
       "      <th>100007</th>\n",
       "      <td>0</td>\n",
       "      <td>-0.020448</td>\n",
       "      <td>2.941959e-17</td>\n",
       "      <td>-0.02195</td>\n",
       "    </tr>\n",
       "  </tbody>\n",
       "</table>\n",
       "</div>"
      ],
      "text/plain": [
       "            TARGET  NORM_AMT_ANNUITY  NORM_BASEMENTAREA_MODE  \\\n",
       "SK_ID_CURR                                                     \n",
       "100002           1         -0.009391           -4.924321e-02   \n",
       "100003           0          0.033501           -3.374321e-02   \n",
       "100004           0         -0.079399            2.941959e-17   \n",
       "100006           0          0.010054            2.941959e-17   \n",
       "100007           0         -0.020448            2.941959e-17   \n",
       "\n",
       "            NORM_CNT_CHILDREN  \n",
       "SK_ID_CURR                     \n",
       "100002               -0.02195  \n",
       "100003               -0.02195  \n",
       "100004               -0.02195  \n",
       "100006               -0.02195  \n",
       "100007               -0.02195  "
      ]
     },
     "execution_count": 70,
     "metadata": {},
     "output_type": "execute_result"
    }
   ],
   "source": [
    "df40a['NORM_CNT_CHILDREN'] = np.nan\n",
    "df40a.NORM_CNT_CHILDREN = (df40.CNT_CHILDREN - df40.CNT_CHILDREN.mean()) / (df40.CNT_CHILDREN.max() - df40.CNT_CHILDREN.min())\n",
    "df40a.NORM_CNT_CHILDREN.fillna(0,inplace=True)\n",
    "df40a.head()\n"
   ]
  },
  {
   "cell_type": "code",
   "execution_count": null,
   "metadata": {},
   "outputs": [],
   "source": []
  },
  {
   "cell_type": "code",
   "execution_count": 76,
   "metadata": {},
   "outputs": [
    {
     "data": {
      "text/plain": [
       "-0.011946731237298959"
      ]
     },
     "execution_count": 76,
     "metadata": {},
     "output_type": "execute_result"
    }
   ],
   "source": [
    "df40a.TARGET.corr(df40a.NORM_BASEMENTAREA_MODE)"
   ]
  },
  {
   "cell_type": "code",
   "execution_count": null,
   "metadata": {},
   "outputs": [],
   "source": [
    "set(df40.NAME_EDUCATION_TYPE)"
   ]
  },
  {
   "cell_type": "code",
   "execution_count": null,
   "metadata": {},
   "outputs": [],
   "source": [
    "set(df40.NAME_FAMILY_STATUS)"
   ]
  },
  {
   "cell_type": "code",
   "execution_count": null,
   "metadata": {},
   "outputs": [],
   "source": [
    "set(df40.NAME_HOUSING_TYPE)"
   ]
  },
  {
   "cell_type": "code",
   "execution_count": null,
   "metadata": {},
   "outputs": [],
   "source": [
    "set(df40.REGION_POPULATION_RELATIVE)"
   ]
  },
  {
   "cell_type": "code",
   "execution_count": null,
   "metadata": {},
   "outputs": [],
   "source": [
    "set(df40.DAYS_BIRTH)"
   ]
  },
  {
   "cell_type": "code",
   "execution_count": null,
   "metadata": {},
   "outputs": [],
   "source": [
    "set(df40.DAYS_EMPLOYED)"
   ]
  },
  {
   "cell_type": "code",
   "execution_count": null,
   "metadata": {},
   "outputs": [],
   "source": [
    "set(df40.DAYS_REGISTRATION)"
   ]
  },
  {
   "cell_type": "code",
   "execution_count": null,
   "metadata": {},
   "outputs": [],
   "source": [
    "set(df40.DAYS_REGISTRATION)\n",
    "set(df40.DAYS_ID_PUBLISH)\n",
    "set(df40.OWN_CAR_AGE)\n",
    "set(df40.FLAG_MOBIL)\n",
    "set(df40.FLAG_EMP_PHONE)\n",
    "set(df40.FLAG_WORK_PHONE)\n",
    "set(df40.FLAG_CONT_MOBILE)\n",
    "set(df40.FLAG_PHONE)\n",
    "set(df40.FLAG_EMAIL)\n",
    "set(df40.OCCUPATION_TYPE)\n",
    "set(df40.CNT_FAM_MEMBERS)\n",
    "set(df40.REGION_RATING_CLIENT)\n",
    "set(df40.ENTRANCES_MODE)\n",
    "set(df40.FLAG_DOCUMENT_18)\n",
    "set(df40.ELEVATORS_AVG)\n",
    "set(df40.EMERGENCYSTATE_MODE)\n",
    "set(df40.AMT_REQ_CREDIT_BUREAU_DAY)\n",
    "set(df40.AMT_REQ_CREDIT_BUREAU_QRT)\n",
    "set(df40.YEARS_BEGINEXPLUATATION_MEDI)\n",
    "set(df40.APARTMENTS_MEDI)\n",
    "set(df40.LANDAREA_MODE)\n",
    "set(df40.COMMONAREA_MODE)"
   ]
  },
  {
   "cell_type": "code",
   "execution_count": null,
   "metadata": {},
   "outputs": [],
   "source": []
  },
  {
   "cell_type": "markdown",
   "metadata": {},
   "source": [
    "##### Analisando as variáveis relativas a CARROS"
   ]
  },
  {
   "cell_type": "code",
   "execution_count": null,
   "metadata": {},
   "outputs": [],
   "source": [
    "df40.loc[:,['FLAG_OWN_CAR','OWN_CAR_AGE']].head(20)"
   ]
  },
  {
   "cell_type": "markdown",
   "metadata": {},
   "source": [
    "Foi observado que quando a pessoa não possuia carro ('FLAG_OWN_CAR'='N') o valor de 'OWN_CAR_AGE'=NaN, por isso substitui-se o NaN de OWN_CAR_AGE baseado na FLAG_OWN_CAR (N) por -1."
   ]
  },
  {
   "cell_type": "code",
   "execution_count": null,
   "metadata": {
    "scrolled": true
   },
   "outputs": [],
   "source": [
    "df40.OWN_CAR_AGE.fillna(0, inplace = True)"
   ]
  },
  {
   "cell_type": "code",
   "execution_count": null,
   "metadata": {
    "scrolled": true
   },
   "outputs": [],
   "source": [
    "df40.loc[:,['FLAG_OWN_CAR','OWN_CAR_AGE']].head(20)"
   ]
  },
  {
   "cell_type": "code",
   "execution_count": null,
   "metadata": {},
   "outputs": [],
   "source": [
    "set(df40.FLAG_OWN_CAR)"
   ]
  },
  {
   "cell_type": "code",
   "execution_count": null,
   "metadata": {},
   "outputs": [],
   "source": [
    "df40['FLAG_OWN_CAR_Y'] = np.nan\n",
    "df40.FLAG_OWN_CAR_Y.loc[df40.FLAG_OWN_CAR == 'Y'] = 1\n",
    "df40.FLAG_OWN_CAR_Y.loc[df40.FLAG_OWN_CAR != 'Y'] = 0"
   ]
  },
  {
   "cell_type": "code",
   "execution_count": null,
   "metadata": {},
   "outputs": [],
   "source": [
    "df40['FLAG_OWN_CAR_N'] = np.nan\n",
    "df40.FLAG_OWN_CAR_N.loc[df40.FLAG_OWN_CAR == 'N'] = 1\n",
    "df40.FLAG_OWN_CAR_N.loc[df40.FLAG_OWN_CAR != 'N'] = 0"
   ]
  },
  {
   "cell_type": "code",
   "execution_count": null,
   "metadata": {
    "scrolled": true
   },
   "outputs": [],
   "source": [
    "df40.loc[:,['FLAG_OWN_CAR_Y','FLAG_OWN_CAR_N','OWN_CAR_AGE']].info()"
   ]
  },
  {
   "cell_type": "code",
   "execution_count": null,
   "metadata": {},
   "outputs": [],
   "source": [
    "df40.FLAG_OWN_CAR_Y"
   ]
  },
  {
   "cell_type": "code",
   "execution_count": null,
   "metadata": {},
   "outputs": [],
   "source": [
    "df40[['TARGET','FLAG_OWN_CAR_Y','FLAG_OWN_CAR_N']].corr()"
   ]
  },
  {
   "cell_type": "code",
   "execution_count": null,
   "metadata": {},
   "outputs": [],
   "source": [
    "df40.to_csv('application_train_40c1.csv') # guardo as alteracoes feitas"
   ]
  },
  {
   "cell_type": "markdown",
   "metadata": {},
   "source": [
    "##### Analisando as variáveis relativas as familias"
   ]
  },
  {
   "cell_type": "code",
   "execution_count": null,
   "metadata": {},
   "outputs": [],
   "source": [
    "df40 = pd.read_csv('application_train_40c1.csv',index_col=0) #leio o arquivo com as alteracoes de carros"
   ]
  },
  {
   "cell_type": "code",
   "execution_count": null,
   "metadata": {},
   "outputs": [],
   "source": [
    "df40.loc[:,['CNT_CHILDREN','NAME_FAMILY_STATUS' == 'Unknown','CNT_FAM_MEMBERS']].head(10)"
   ]
  },
  {
   "cell_type": "code",
   "execution_count": null,
   "metadata": {
    "scrolled": true
   },
   "outputs": [],
   "source": [
    "set(df40.NAME_FAMILY_STATUS) # descubro quais são os valores possíveis neste caso"
   ]
  },
  {
   "cell_type": "markdown",
   "metadata": {},
   "source": [
    "Os diferentes valores que temos em Family status nos ajudam a definir um valor para este status:\n",
    "\n",
    "{'Civil marriage' = 2,\n",
    " 'Married' = 2,\n",
    " 'Separated' = 1,\n",
    " 'Single / not married' = 1,\n",
    " 'Unknown' = CNT_FAM_MEMBERS - CNT_CHILDREN,\n",
    " 'Widow' = 1}\n",
    " \n",
    "Crio uma nova variavel para armazenar o numero de pessoas na casa"
   ]
  },
  {
   "cell_type": "code",
   "execution_count": null,
   "metadata": {},
   "outputs": [],
   "source": [
    "df40.NAME_FAMILY_STATUS.loc[df40.NAME_FAMILY_STATUS == 'Civil marriage'] = 2\n",
    "df40.NAME_FAMILY_STATUS.loc[df40.NAME_FAMILY_STATUS == 'Married'] = 2\n",
    "df40.NAME_FAMILY_STATUS.loc[df40.NAME_FAMILY_STATUS == 'Separated'] = 1\n",
    "df40.NAME_FAMILY_STATUS.loc[df40.NAME_FAMILY_STATUS == 'Single / not married'] = 1\n",
    "df40.NAME_FAMILY_STATUS.loc[df40.NAME_FAMILY_STATUS == 'Widow'] = 1\n",
    "\n",
    "for i in df40.index:\n",
    "    if df40.NAME_FAMILY_STATUS[i] == 'Unknown': \n",
    "        df40.NAME_FAMILY_STATUS[i] = (df40.CNT_FAM_MEMBERS[i] - df40.CNT_CHILDREN[i])"
   ]
  },
  {
   "cell_type": "code",
   "execution_count": null,
   "metadata": {},
   "outputs": [],
   "source": [
    "#df40.NAME_FAMILY_STATUS_NO\n",
    "\n",
    "df40.loc[:,['CNT_CHILDREN','NAME_FAMILY_STATUS','CNT_FAM_MEMBERS']].head(10)"
   ]
  },
  {
   "cell_type": "code",
   "execution_count": null,
   "metadata": {
    "scrolled": true
   },
   "outputs": [],
   "source": [
    "df40.loc[:,['CNT_CHILDREN','NAME_FAMILY_STATUS','CNT_FAM_MEMBERS']].info()"
   ]
  },
  {
   "cell_type": "markdown",
   "metadata": {},
   "source": [
    "Considerando que somente as duas linhas da familia estao com valores faltantes, podemos ignorar estes valores, apagando estas duas linhas do dataframe"
   ]
  },
  {
   "cell_type": "code",
   "execution_count": null,
   "metadata": {},
   "outputs": [],
   "source": [
    "mn.bar(df40,figsize=(40,6))"
   ]
  },
  {
   "cell_type": "code",
   "execution_count": null,
   "metadata": {},
   "outputs": [],
   "source": [
    "df40.to_csv('application_train_40c2.csv')"
   ]
  },
  {
   "cell_type": "markdown",
   "metadata": {},
   "source": [
    "##### Analisando a variável OCCUPATION_TYPE"
   ]
  },
  {
   "cell_type": "code",
   "execution_count": null,
   "metadata": {},
   "outputs": [],
   "source": [
    "df40 = pd.read_csv('application_train_40c2.csv',index_col=0) #leio o arquivo com as alteracoes de carros e familias"
   ]
  },
  {
   "cell_type": "code",
   "execution_count": null,
   "metadata": {},
   "outputs": [],
   "source": [
    "df.loc[:,['DAYS_EMPLOYED','FLAG_WORK_PHONE','OCCUPATION_TYPE']].head(10)"
   ]
  },
  {
   "cell_type": "code",
   "execution_count": null,
   "metadata": {},
   "outputs": [],
   "source": [
    "set(df40.OCCUPATION_TYPE) # descubro quais são os valores possíveis neste caso"
   ]
  },
  {
   "cell_type": "code",
   "execution_count": null,
   "metadata": {},
   "outputs": [],
   "source": [
    "df40.OCCUPATION_TYPE.fillna('Unknown', inplace = True)"
   ]
  },
  {
   "cell_type": "code",
   "execution_count": null,
   "metadata": {},
   "outputs": [],
   "source": [
    "set(df40.OCCUPATION_TYPE) # confirmo que NaN foi trocado por Unknown"
   ]
  },
  {
   "cell_type": "code",
   "execution_count": null,
   "metadata": {},
   "outputs": [],
   "source": [
    "mn.bar(df40,figsize=(40,6))"
   ]
  },
  {
   "cell_type": "code",
   "execution_count": null,
   "metadata": {},
   "outputs": [],
   "source": [
    "df40.to_csv('application_train_40c3.csv') # guardo as alteracoes feitas"
   ]
  },
  {
   "cell_type": "markdown",
   "metadata": {},
   "source": [
    "#### Analisando variáveis do imóvel"
   ]
  },
  {
   "cell_type": "code",
   "execution_count": null,
   "metadata": {},
   "outputs": [],
   "source": [
    "df40 = pd.read_csv('application_train_40c3.csv',index_col=0) #leio o arquivo com as alteracoes de carros e familias"
   ]
  },
  {
   "cell_type": "code",
   "execution_count": null,
   "metadata": {},
   "outputs": [],
   "source": [
    "df40.ENTRANCES_MODE.head()"
   ]
  },
  {
   "cell_type": "code",
   "execution_count": null,
   "metadata": {},
   "outputs": [],
   "source": [
    "df40.ELEVATORS_AVG.head()"
   ]
  },
  {
   "cell_type": "code",
   "execution_count": null,
   "metadata": {},
   "outputs": [],
   "source": [
    "df40.APARTMENTS_MEDI.head()"
   ]
  },
  {
   "cell_type": "code",
   "execution_count": null,
   "metadata": {},
   "outputs": [],
   "source": [
    "df40.LANDAREA_MODE.head()"
   ]
  },
  {
   "cell_type": "code",
   "execution_count": null,
   "metadata": {},
   "outputs": [],
   "source": [
    "df40.COMMONAREA_MODE.head()"
   ]
  },
  {
   "cell_type": "code",
   "execution_count": null,
   "metadata": {},
   "outputs": [],
   "source": [
    "df40.YEARS_BEGINEXPLUATATION_MEDI.head()"
   ]
  },
  {
   "cell_type": "markdown",
   "metadata": {},
   "source": [
    "Nestas 6 variaveis, optei por substituir o NaN pela media dos valores"
   ]
  },
  {
   "cell_type": "code",
   "execution_count": null,
   "metadata": {},
   "outputs": [],
   "source": [
    "df40.ENTRANCES_MODE.fillna(df40.ENTRANCES_MODE.mean(), inplace = True)"
   ]
  },
  {
   "cell_type": "code",
   "execution_count": null,
   "metadata": {},
   "outputs": [],
   "source": [
    "df40.ELEVATORS_AVG.fillna(df40.ELEVATORS_AVG.mean(), inplace = True)"
   ]
  },
  {
   "cell_type": "code",
   "execution_count": null,
   "metadata": {},
   "outputs": [],
   "source": [
    "df40.APARTMENTS_MEDI.fillna(df40.APARTMENTS_MEDI.mean(), inplace = True)"
   ]
  },
  {
   "cell_type": "code",
   "execution_count": null,
   "metadata": {},
   "outputs": [],
   "source": [
    "df40.LANDAREA_MODE.fillna(df40.LANDAREA_MODE.mean(), inplace = True)"
   ]
  },
  {
   "cell_type": "code",
   "execution_count": null,
   "metadata": {},
   "outputs": [],
   "source": [
    "df40.COMMONAREA_MODE.fillna(df40.COMMONAREA_MODE.mean(), inplace = True)"
   ]
  },
  {
   "cell_type": "code",
   "execution_count": null,
   "metadata": {},
   "outputs": [],
   "source": [
    "df40.YEARS_BEGINEXPLUATATION_MEDI.fillna(df40.YEARS_BEGINEXPLUATATION_MEDI.mean(), inplace = True)"
   ]
  },
  {
   "cell_type": "code",
   "execution_count": null,
   "metadata": {},
   "outputs": [],
   "source": [
    "mn.bar(df40,figsize=(40,6))"
   ]
  },
  {
   "cell_type": "code",
   "execution_count": null,
   "metadata": {},
   "outputs": [],
   "source": [
    "df40.to_csv('application_train_40c4.csv') # guardo as alteracoes feitas"
   ]
  },
  {
   "cell_type": "markdown",
   "metadata": {},
   "source": [
    "#### Verificando EMERGENCYSTATE_MODE"
   ]
  },
  {
   "cell_type": "code",
   "execution_count": null,
   "metadata": {},
   "outputs": [],
   "source": [
    "df40 = pd.read_csv('application_train_40c4.csv',index_col=0) #leio o arquivo com as alteracoes de carros, familias e dados do apartamento"
   ]
  },
  {
   "cell_type": "code",
   "execution_count": null,
   "metadata": {
    "scrolled": true
   },
   "outputs": [],
   "source": [
    "df40.loc[:,['TARGET','EMERGENCYSTATE_MODE']].head(20)"
   ]
  },
  {
   "cell_type": "code",
   "execution_count": null,
   "metadata": {},
   "outputs": [],
   "source": [
    "set(df40.EMERGENCYSTATE_MODE)"
   ]
  },
  {
   "cell_type": "code",
   "execution_count": null,
   "metadata": {},
   "outputs": [],
   "source": [
    "df40['EMERGENCYSTATE_MODE_N'] = np.nan\n",
    "df40.EMERGENCYSTATE_MODE_N.loc[df40.EMERGENCYSTATE_MODE == 'No'] = 1\n",
    "df40.EMERGENCYSTATE_MODE_N.loc[df40.EMERGENCYSTATE_MODE != 'No'] = 0"
   ]
  },
  {
   "cell_type": "code",
   "execution_count": null,
   "metadata": {},
   "outputs": [],
   "source": [
    "df40['EMERGENCYSTATE_MODE_Y'] = np.nan\n",
    "df40.EMERGENCYSTATE_MODE_Y.loc[df40.EMERGENCYSTATE_MODE == 'Yes'] = 1\n",
    "df40.EMERGENCYSTATE_MODE_Y.loc[df40.EMERGENCYSTATE_MODE != 'Yes'] = 0"
   ]
  },
  {
   "cell_type": "code",
   "execution_count": null,
   "metadata": {},
   "outputs": [],
   "source": [
    "df40.EMERGENCYSTATE_MODE.fillna(-1, inplace = True)"
   ]
  },
  {
   "cell_type": "code",
   "execution_count": null,
   "metadata": {},
   "outputs": [],
   "source": [
    "df40.loc[:,['TARGET','EMERGENCYSTATE_MODE']].head()"
   ]
  },
  {
   "cell_type": "code",
   "execution_count": null,
   "metadata": {},
   "outputs": [],
   "source": [
    "df40[['TARGET','EMERGENCYSTATE_MODE_Y','EMERGENCYSTATE_MODE_N']].corr()"
   ]
  },
  {
   "cell_type": "code",
   "execution_count": null,
   "metadata": {},
   "outputs": [],
   "source": [
    "mn.bar(df40,figsize=(40,6))"
   ]
  },
  {
   "cell_type": "code",
   "execution_count": null,
   "metadata": {},
   "outputs": [],
   "source": [
    "df40.to_csv('application_train_40c5.csv') # guardo as alteracoes feitas"
   ]
  },
  {
   "cell_type": "markdown",
   "metadata": {},
   "source": [
    "#### Conhecendo as variaveis que ainda precisam de tratamento"
   ]
  },
  {
   "cell_type": "code",
   "execution_count": null,
   "metadata": {},
   "outputs": [],
   "source": [
    "df40 = pd.read_csv('application_train_40c5.csv',index_col=0) #leio o arquivo com as alteracoes de carros, familias e dados do apartamento"
   ]
  },
  {
   "cell_type": "code",
   "execution_count": null,
   "metadata": {},
   "outputs": [],
   "source": [
    "df40[['TARGET','AMT_REQ_CREDIT_BUREAU_DAY','AMT_REQ_CREDIT_BUREAU_QRT']].head(30)"
   ]
  },
  {
   "cell_type": "code",
   "execution_count": null,
   "metadata": {},
   "outputs": [],
   "source": [
    "df40[['TARGET','AMT_REQ_CREDIT_BUREAU_DAY','AMT_REQ_CREDIT_BUREAU_QRT']].corr()"
   ]
  },
  {
   "cell_type": "code",
   "execution_count": null,
   "metadata": {},
   "outputs": [],
   "source": [
    "df40.AMT_REQ_CREDIT_BUREAU_DAY.fillna(df40.AMT_REQ_CREDIT_BUREAU_DAY.mean(), inplace = True)"
   ]
  },
  {
   "cell_type": "code",
   "execution_count": null,
   "metadata": {},
   "outputs": [],
   "source": [
    "df40.AMT_REQ_CREDIT_BUREAU_QRT.fillna(df40.AMT_REQ_CREDIT_BUREAU_QRT.mean(), inplace = True)"
   ]
  },
  {
   "cell_type": "code",
   "execution_count": null,
   "metadata": {},
   "outputs": [],
   "source": [
    "df40[['TARGET','AMT_REQ_CREDIT_BUREAU_DAY','AMT_REQ_CREDIT_BUREAU_QRT']].corr()"
   ]
  },
  {
   "cell_type": "code",
   "execution_count": null,
   "metadata": {},
   "outputs": [],
   "source": [
    "df40[['TARGET','AMT_REQ_CREDIT_BUREAU_DAY','AMT_REQ_CREDIT_BUREAU_QRT']].head(30)"
   ]
  },
  {
   "cell_type": "code",
   "execution_count": null,
   "metadata": {},
   "outputs": [],
   "source": [
    "mn.bar(df40,figsize=(40,6))"
   ]
  },
  {
   "cell_type": "markdown",
   "metadata": {},
   "source": [
    "Limpando eventuais NaNs que tenham sobrado"
   ]
  },
  {
   "cell_type": "code",
   "execution_count": null,
   "metadata": {},
   "outputs": [],
   "source": [
    "df40.to_csv('application_train_40c6.csv') # guardo as alteracoes feitas"
   ]
  },
  {
   "cell_type": "markdown",
   "metadata": {},
   "source": [
    "Verificando as variavies Object para transformar em discreta"
   ]
  },
  {
   "cell_type": "code",
   "execution_count": null,
   "metadata": {},
   "outputs": [],
   "source": [
    "df40 = pd.read_csv('application_train_40c6.csv',index_col=0)"
   ]
  },
  {
   "cell_type": "code",
   "execution_count": null,
   "metadata": {},
   "outputs": [],
   "source": [
    "df40.info()"
   ]
  },
  {
   "cell_type": "code",
   "execution_count": null,
   "metadata": {},
   "outputs": [],
   "source": [
    "set(df40.NAME_CONTRACT_TYPE)"
   ]
  },
  {
   "cell_type": "code",
   "execution_count": null,
   "metadata": {},
   "outputs": [],
   "source": [
    "df40['NAME_CONTRACT_TYPE_C'] = np.nan\n",
    "df40.NAME_CONTRACT_TYPE_C.loc[df40.NAME_CONTRACT_TYPE == 'Cash loans'] = 1\n",
    "df40.NAME_CONTRACT_TYPE_C.loc[df40.NAME_CONTRACT_TYPE != 'Cash loans'] = 0"
   ]
  },
  {
   "cell_type": "code",
   "execution_count": null,
   "metadata": {},
   "outputs": [],
   "source": [
    "df40['NAME_CONTRACT_TYPE_R'] = np.nan\n",
    "df40.NAME_CONTRACT_TYPE_R.loc[df40.NAME_CONTRACT_TYPE == 'Revolving loans'] = 1\n",
    "df40.NAME_CONTRACT_TYPE_R.loc[df40.NAME_CONTRACT_TYPE != 'Revolving loans'] = 0"
   ]
  },
  {
   "cell_type": "code",
   "execution_count": null,
   "metadata": {},
   "outputs": [],
   "source": [
    "df40[['TARGET','NAME_CONTRACT_TYPE_C','NAME_CONTRACT_TYPE_R']].corr()"
   ]
  },
  {
   "cell_type": "code",
   "execution_count": null,
   "metadata": {},
   "outputs": [],
   "source": [
    "set(df40.CODE_GENDER)"
   ]
  },
  {
   "cell_type": "code",
   "execution_count": null,
   "metadata": {},
   "outputs": [],
   "source": [
    "df40['CODE_GENDER_F'] = np.nan\n",
    "df40.CODE_GENDER_F.loc[df40.CODE_GENDER == 'F'] = 1\n",
    "df40.CODE_GENDER_F.loc[df40.CODE_GENDER != 'F'] = 0"
   ]
  },
  {
   "cell_type": "code",
   "execution_count": null,
   "metadata": {},
   "outputs": [],
   "source": [
    "df40['CODE_GENDER_M'] = np.nan\n",
    "df40.CODE_GENDER_M.loc[df40.CODE_GENDER == 'M'] = 1\n",
    "df40.CODE_GENDER_M.loc[df40.CODE_GENDER != 'M'] = 0"
   ]
  },
  {
   "cell_type": "code",
   "execution_count": null,
   "metadata": {
    "scrolled": true
   },
   "outputs": [],
   "source": [
    "pd.crosstab(df40.TARGET,df40.CODE_GENDER_M) #,df40.CODE_GENDER_F)"
   ]
  },
  {
   "cell_type": "code",
   "execution_count": null,
   "metadata": {
    "scrolled": true
   },
   "outputs": [],
   "source": [
    "pd.crosstab(df40.TARGET,df40.CODE_GENDER_F)"
   ]
  },
  {
   "cell_type": "code",
   "execution_count": null,
   "metadata": {},
   "outputs": [],
   "source": [
    "df40[['TARGET','CODE_GENDER_F','CODE_GENDER_M']].corr()"
   ]
  },
  {
   "cell_type": "code",
   "execution_count": null,
   "metadata": {},
   "outputs": [],
   "source": [
    "set(df40.FLAG_OWN_REALTY)"
   ]
  },
  {
   "cell_type": "code",
   "execution_count": null,
   "metadata": {},
   "outputs": [],
   "source": [
    "df40['FLAG_OWN_REALTY_Y'] = np.nan\n",
    "df40.FLAG_OWN_REALTY_Y.loc[df40.FLAG_OWN_REALTY == 'Y'] = 1\n",
    "df40.FLAG_OWN_REALTY_Y.loc[df40.FLAG_OWN_REALTY != 'Y'] = 0"
   ]
  },
  {
   "cell_type": "code",
   "execution_count": null,
   "metadata": {},
   "outputs": [],
   "source": [
    "df40['FLAG_OWN_REALTY_N'] = np.nan\n",
    "df40.FLAG_OWN_REALTY_N.loc[df40.FLAG_OWN_REALTY == 'N'] = 1\n",
    "df40.FLAG_OWN_REALTY_N.loc[df40.FLAG_OWN_REALTY != 'N'] = 0"
   ]
  },
  {
   "cell_type": "code",
   "execution_count": null,
   "metadata": {},
   "outputs": [],
   "source": [
    "pd.crosstab(df40.TARGET,df40.FLAG_OWN_REALTY)"
   ]
  },
  {
   "cell_type": "code",
   "execution_count": null,
   "metadata": {},
   "outputs": [],
   "source": [
    "df40[['TARGET','FLAG_OWN_REALTY_N','FLAG_OWN_REALTY_Y']].corr()"
   ]
  },
  {
   "cell_type": "code",
   "execution_count": null,
   "metadata": {},
   "outputs": [],
   "source": [
    "set(df40.NAME_TYPE_SUITE)"
   ]
  },
  {
   "cell_type": "code",
   "execution_count": null,
   "metadata": {},
   "outputs": [],
   "source": [
    "pd.crosstab(df40.TARGET,df40.NAME_TYPE_SUITE)"
   ]
  },
  {
   "cell_type": "code",
   "execution_count": null,
   "metadata": {},
   "outputs": [],
   "source": [
    "set(df40.NAME_INCOME_TYPE)"
   ]
  },
  {
   "cell_type": "code",
   "execution_count": null,
   "metadata": {},
   "outputs": [],
   "source": [
    "pd.crosstab(df40.TARGET,df40.NAME_INCOME_TYPE)"
   ]
  },
  {
   "cell_type": "code",
   "execution_count": null,
   "metadata": {},
   "outputs": [],
   "source": [
    "set(df40.NAME_EDUCATION_TYPE)"
   ]
  },
  {
   "cell_type": "code",
   "execution_count": null,
   "metadata": {},
   "outputs": [],
   "source": [
    "pd.crosstab(df40.TARGET,df40.NAME_EDUCATION_TYPE)"
   ]
  },
  {
   "cell_type": "code",
   "execution_count": null,
   "metadata": {},
   "outputs": [],
   "source": [
    "set(df40.OCCUPATION_TYPE)"
   ]
  },
  {
   "cell_type": "code",
   "execution_count": null,
   "metadata": {},
   "outputs": [],
   "source": [
    "pd.crosstab(df40.TARGET,df40.OCCUPATION_TYPE)"
   ]
  },
  {
   "cell_type": "code",
   "execution_count": null,
   "metadata": {},
   "outputs": [],
   "source": [
    "df40.to_csv('application_train_40c7.csv') # guardo as alteracoes feitas"
   ]
  },
  {
   "cell_type": "markdown",
   "metadata": {},
   "source": [
    "#### Verificando as correlacoes"
   ]
  },
  {
   "cell_type": "code",
   "execution_count": null,
   "metadata": {},
   "outputs": [],
   "source": [
    "df40 = pd.read_csv('application_train_40c7.csv',index_col=0) #leio o arquivo com as alteracoes de carros, familias e dados do apartamento"
   ]
  },
  {
   "cell_type": "code",
   "execution_count": null,
   "metadata": {},
   "outputs": [],
   "source": [
    "df40.corr()"
   ]
  },
  {
   "cell_type": "code",
   "execution_count": null,
   "metadata": {
    "scrolled": true
   },
   "outputs": [],
   "source": [
    "plt.matshow(df40.corr())"
   ]
  },
  {
   "cell_type": "code",
   "execution_count": null,
   "metadata": {},
   "outputs": [],
   "source": [
    "# Generate a mask for the upper triangle\n",
    "mask = np.zeros_like(df40.corr(), dtype=np.bool)\n",
    "mask[np.triu_indices_from(mask)] = True\n",
    "\n",
    "# Set up the matplotlib figure\n",
    "f, ax = plt.subplots(figsize=(11, 9))\n",
    "\n",
    "# Generate a custom diverging colormap\n",
    "cmap = sns.diverging_palette(220, 10, as_cmap=True)\n",
    "\n",
    "# Draw the heatmap with the mask and correct aspect ratio\n",
    "sns.heatmap(df40.corr().round(2), mask=mask, cmap=cmap, vmax=.3, center=0,\n",
    "            square=True, linewidths=.5, cbar_kws={\"shrink\": .5})"
   ]
  },
  {
   "cell_type": "code",
   "execution_count": null,
   "metadata": {},
   "outputs": [],
   "source": [
    "df40.TARGET.plot(kind='box', subplots=True, )"
   ]
  },
  {
   "cell_type": "markdown",
   "metadata": {},
   "source": [
    "Juntando outras tabelas"
   ]
  },
  {
   "cell_type": "code",
   "execution_count": null,
   "metadata": {},
   "outputs": [],
   "source": [
    "dfa1 = pd.read_csv('credit_card_balance.csv', index_col=0)"
   ]
  },
  {
   "cell_type": "code",
   "execution_count": null,
   "metadata": {},
   "outputs": [],
   "source": [
    "dfa1.shape"
   ]
  },
  {
   "cell_type": "code",
   "execution_count": null,
   "metadata": {},
   "outputs": [],
   "source": [
    "mn.bar(dfa1,figsize=(22,6))"
   ]
  },
  {
   "cell_type": "code",
   "execution_count": null,
   "metadata": {},
   "outputs": [],
   "source": [
    "dfa2 = pd.read_csv('installments_payments.csv', index_col=0)"
   ]
  },
  {
   "cell_type": "code",
   "execution_count": null,
   "metadata": {},
   "outputs": [],
   "source": [
    "dfa2.shape"
   ]
  },
  {
   "cell_type": "code",
   "execution_count": null,
   "metadata": {},
   "outputs": [],
   "source": [
    "mn.bar(dfa2,figsize=(7,6))"
   ]
  },
  {
   "cell_type": "code",
   "execution_count": null,
   "metadata": {},
   "outputs": [],
   "source": [
    "#dfr= pd.concat([df40, dfa1], axis=1, join='inner')\n",
    "dfr = pd.merge(df40, dfa1, on=['SK_ID_CURR', 'SK_ID_CURR'])"
   ]
  },
  {
   "cell_type": "code",
   "execution_count": null,
   "metadata": {},
   "outputs": [],
   "source": [
    "dfr = "
   ]
  },
  {
   "cell_type": "code",
   "execution_count": null,
   "metadata": {},
   "outputs": [],
   "source": [
    "dfr.shape"
   ]
  },
  {
   "cell_type": "code",
   "execution_count": null,
   "metadata": {},
   "outputs": [],
   "source": [
    "dfa2.shape"
   ]
  }
 ],
 "metadata": {
  "kernelspec": {
   "display_name": "Python 3",
   "language": "python",
   "name": "python3"
  },
  "language_info": {
   "codemirror_mode": {
    "name": "ipython",
    "version": 3
   },
   "file_extension": ".py",
   "mimetype": "text/x-python",
   "name": "python",
   "nbconvert_exporter": "python",
   "pygments_lexer": "ipython3",
   "version": "3.6.6"
  }
 },
 "nbformat": 4,
 "nbformat_minor": 2
}
